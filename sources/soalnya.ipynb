{
    "cells": [
        {
            "cell_type": "code",
            "execution_count": 1,
            "source": [
                "soal = [\"1+3=\",\"4\"]\n",
                "wow = [[\"1+10=\",\"11\"], \n",
                "        soal]\n",
                "\n",
                "print(wow)\n",
                "print(wow[0][0])"
            ],
            "outputs": [
                {
                    "output_type": "stream",
                    "name": "stdout",
                    "text": [
                        "[['1+10=', '11'], ['1+3=', '4']]\n",
                        "1+10=\n"
                    ]
                }
            ],
            "metadata": {}
        }
    ],
    "metadata": {
        "orig_nbformat": 4,
        "language_info": {
            "name": "python",
            "version": "3.9.6",
            "mimetype": "text/x-python",
            "codemirror_mode": {
                "name": "ipython",
                "version": 3
            },
            "pygments_lexer": "ipython3",
            "nbconvert_exporter": "python",
            "file_extension": ".py"
        },
        "kernelspec": {
            "name": "python3",
            "display_name": "Python 3.9.6 64-bit"
        },
        "interpreter": {
            "hash": "aee8b7b246df8f9039afb4144a1f6fd8d2ca17a180786b69acc140d282b71a49"
        }
    },
    "nbformat": 4,
    "nbformat_minor": 2
}